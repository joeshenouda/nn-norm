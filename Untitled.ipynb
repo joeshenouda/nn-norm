{
 "cells": [
  {
   "cell_type": "code",
   "execution_count": 3,
   "id": "69343e46-3ecb-43fa-9d87-56027aa3dfb0",
   "metadata": {},
   "outputs": [],
   "source": [
    "import models.shallow_NN as shallow_NN\n",
    "import os\n",
    "import torch\n",
    "import matplotlib.pyplot as plt"
   ]
  },
  {
   "cell_type": "code",
   "execution_count": 4,
   "id": "8af78ce2-250b-40cf-8dbe-adae29b1ba4a",
   "metadata": {},
   "outputs": [],
   "source": [
    "w2v1_best_model = torch.load('./results/MNIST_binary_shallow_NN/0616140133_pn_w2v1_loss_{0.001}_{0.1}_balance/model_idx_4500_acc_99_72_sp_82.pt')\n",
    "w2v2_best_model = torch.load('./results/MNIST_binary_shallow_NN/0616140133_pn_w2v2_loss_{0.001}_{0.1}_balance/model_idx_4500_acc_99_53_sp_65.pt')"
   ]
  },
  {
   "cell_type": "code",
   "execution_count": 12,
   "id": "a87d411e-a72a-48a7-9dd9-b1444b834c8a",
   "metadata": {},
   "outputs": [],
   "source": [
    "w2v1_best_results = torch.load('./results/MNIST_binary_shallow_NN/0616140133_pn_w2v1_loss_{0.001}_{0.1}_balance/result.pt')\n",
    "w2v2_best_results = torch.load('./results/MNIST_binary_shallow_NN/0616140133_pn_w2v2_loss_{0.001}_{0.1}_balance/result.pt')"
   ]
  },
  {
   "cell_type": "code",
   "execution_count": 5,
   "id": "d2a0ed2d-f5a6-4253-a89d-454074bc7dd7",
   "metadata": {},
   "outputs": [],
   "source": [
    "w2v1_model = shallow_NN(28, 1, 250, 2)\n",
    "w2v2_model = shallow_NN(28, 1, 250, 2)"
   ]
  },
  {
   "cell_type": "code",
   "execution_count": 7,
   "id": "c75fea34-5ecc-4290-9c34-28836298cf8f",
   "metadata": {},
   "outputs": [
    {
     "data": {
      "text/plain": [
       "<All keys matched successfully>"
      ]
     },
     "execution_count": 7,
     "metadata": {},
     "output_type": "execute_result"
    }
   ],
   "source": [
    "w2v1_model.load_state_dict(w2v1_best_model['model_state_dict'])\n",
    "w2v2_model.load_state_dict(w2v2_best_model['model_state_dict'])"
   ]
  },
  {
   "cell_type": "code",
   "execution_count": 8,
   "id": "71bd9940-ea4a-4dd0-a904-1b8dcb5681af",
   "metadata": {},
   "outputs": [],
   "source": [
    "w2v1_output_weights = w2v1_model.linear2.weight.detach()\n",
    "w2v2_output_weights = w2v2_model.linear2.weight.detach()"
   ]
  },
  {
   "cell_type": "code",
   "execution_count": 15,
   "id": "b46b7519-edbc-4ca0-a901-62492906e0c0",
   "metadata": {},
   "outputs": [],
   "source": [
    "w2v1_pns=w2v1_best_results['act']['pns']\n",
    "w2v2_pns=w2v2_best_results['act']['pns']"
   ]
  },
  {
   "cell_type": "code",
   "execution_count": 27,
   "id": "9337bc89-fa77-4e36-b1ba-11a5b717a75e",
   "metadata": {},
   "outputs": [],
   "source": [
    "w2v1_final_pns = w2v1_pns[-1][0]\n",
    "w2v2_final_pns = w2v2_pns[-1][0]"
   ]
  },
  {
   "cell_type": "code",
   "execution_count": 29,
   "id": "3913b050-c085-4737-a55a-9a1e2446c31e",
   "metadata": {},
   "outputs": [],
   "source": [
    "w2v1_max_pn = torch.max(w2v1_final_pns, dim=0)[0]\n",
    "w2v2_max_pn = torch.max(w2v2_final_pns, dim=0)[0]"
   ]
  },
  {
   "cell_type": "code",
   "execution_count": 32,
   "id": "3d436d6e-f8af-4745-810c-befdbd60a233",
   "metadata": {},
   "outputs": [],
   "source": [
    "w2v1_act_neurons = w2v1_final_pns > 0.0001*w2v1_max_pn\n",
    "w2v2_act_neurons = w2v2_final_pns > 0.0001*w2v2_max_pn"
   ]
  },
  {
   "cell_type": "code",
   "execution_count": 37,
   "id": "74d9d99b-d0d7-4e51-962c-f3ba8e1533ee",
   "metadata": {},
   "outputs": [
    {
     "data": {
      "text/plain": [
       "tensor([[-7.7315e-02,  0.0000e+00],\n",
       "        [-3.6585e-01,  0.0000e+00],\n",
       "        [-1.3603e-01,  1.1578e-01],\n",
       "        [-1.7490e-01,  0.0000e+00],\n",
       "        [-6.1857e-02,  0.0000e+00],\n",
       "        [ 1.3899e-01,  0.0000e+00],\n",
       "        [-5.4971e-01,  0.0000e+00],\n",
       "        [-4.8879e-01,  0.0000e+00],\n",
       "        [-3.4922e-01,  0.0000e+00],\n",
       "        [-4.1554e-01,  0.0000e+00],\n",
       "        [ 7.2657e-01,  0.0000e+00],\n",
       "        [-6.4315e-01,  0.0000e+00],\n",
       "        [ 1.2351e-01,  0.0000e+00],\n",
       "        [-6.6377e-01,  0.0000e+00],\n",
       "        [ 2.8447e-02,  0.0000e+00],\n",
       "        [-3.8831e-01,  0.0000e+00],\n",
       "        [-1.2640e-01,  0.0000e+00],\n",
       "        [-3.5337e-01,  0.0000e+00],\n",
       "        [ 9.5043e-01,  0.0000e+00],\n",
       "        [-2.2664e-01,  0.0000e+00],\n",
       "        [ 2.7341e-02,  0.0000e+00],\n",
       "        [-5.6269e-01,  0.0000e+00],\n",
       "        [-6.3245e-01,  0.0000e+00],\n",
       "        [-1.6610e-01,  0.0000e+00],\n",
       "        [ 2.5623e-01,  0.0000e+00],\n",
       "        [-3.6583e-01,  0.0000e+00],\n",
       "        [ 2.6835e-01,  0.0000e+00],\n",
       "        [-2.7230e-01,  0.0000e+00],\n",
       "        [-5.5835e-01,  0.0000e+00],\n",
       "        [-2.7578e-01,  0.0000e+00],\n",
       "        [-1.0651e-01,  0.0000e+00],\n",
       "        [ 1.0376e+00,  0.0000e+00],\n",
       "        [-1.0886e+00,  0.0000e+00],\n",
       "        [-2.6742e-01,  0.0000e+00],\n",
       "        [-1.6901e-01,  0.0000e+00],\n",
       "        [ 2.4241e-01,  0.0000e+00],\n",
       "        [-2.7541e-01,  0.0000e+00],\n",
       "        [ 7.3798e-01,  0.0000e+00],\n",
       "        [-9.5856e-01,  0.0000e+00],\n",
       "        [ 1.5893e-01,  0.0000e+00],\n",
       "        [-5.8250e-01,  0.0000e+00],\n",
       "        [-5.1757e-01,  0.0000e+00],\n",
       "        [ 3.1472e-02,  0.0000e+00],\n",
       "        [-2.6529e-01,  0.0000e+00],\n",
       "        [-2.0202e-01,  0.0000e+00],\n",
       "        [-8.4211e-01,  0.0000e+00],\n",
       "        [ 1.1455e-01,  0.0000e+00],\n",
       "        [ 2.0160e+00,  0.0000e+00],\n",
       "        [-2.9431e-01,  0.0000e+00],\n",
       "        [ 4.1166e-01,  0.0000e+00],\n",
       "        [ 1.3641e-01,  0.0000e+00],\n",
       "        [-6.8142e-01,  0.0000e+00],\n",
       "        [-8.9844e-01,  0.0000e+00],\n",
       "        [ 2.8382e-01,  0.0000e+00],\n",
       "        [-3.3066e-01,  0.0000e+00],\n",
       "        [-6.9489e-01,  0.0000e+00],\n",
       "        [ 3.0346e-01,  0.0000e+00],\n",
       "        [-4.2658e-01,  0.0000e+00],\n",
       "        [-4.5445e-02,  0.0000e+00],\n",
       "        [ 9.7613e-03, -1.4382e-02],\n",
       "        [-2.9375e-01,  0.0000e+00],\n",
       "        [ 3.4335e+00,  2.9823e-01],\n",
       "        [-1.0221e+00,  0.0000e+00],\n",
       "        [-5.3258e-01,  0.0000e+00],\n",
       "        [-9.5891e-02,  0.0000e+00],\n",
       "        [ 8.1349e-01,  0.0000e+00],\n",
       "        [-0.0000e+00,  5.1831e-06],\n",
       "        [ 4.7055e-02, -6.8051e-02],\n",
       "        [ 2.0342e-01,  0.0000e+00],\n",
       "        [ 5.3553e-01,  0.0000e+00],\n",
       "        [ 1.3776e+00,  0.0000e+00],\n",
       "        [-6.0541e-01,  0.0000e+00],\n",
       "        [-2.7413e-01,  0.0000e+00],\n",
       "        [ 3.9897e-01,  0.0000e+00],\n",
       "        [ 7.1292e-01,  0.0000e+00],\n",
       "        [-6.7918e-01,  0.0000e+00],\n",
       "        [-8.8410e-01,  0.0000e+00],\n",
       "        [ 4.2185e-02,  0.0000e+00],\n",
       "        [ 9.0757e-01,  0.0000e+00]])"
      ]
     },
     "execution_count": 37,
     "metadata": {},
     "output_type": "execute_result"
    }
   ],
   "source": [
    "w2v1_output_weights.T[w2v1_act_neurons]"
   ]
  },
  {
   "cell_type": "code",
   "execution_count": 38,
   "id": "a5e2cde8-4050-40fd-a55f-e4769c24a7ab",
   "metadata": {},
   "outputs": [
    {
     "data": {
      "text/plain": [
       "tensor([[-1.2329e+00, -3.9768e-01],\n",
       "        [-9.1680e-01, -3.6834e-01],\n",
       "        [-2.7481e-01, -9.5283e-02],\n",
       "        [-4.1693e-01, -1.8449e-01],\n",
       "        [-4.6447e-01, -1.8550e-01],\n",
       "        [-1.4623e+00, -5.8210e-01],\n",
       "        [-9.1044e-01, -3.3925e-01],\n",
       "        [-1.3571e-05,  1.8944e-05],\n",
       "        [-5.6870e-02, -2.8145e-02],\n",
       "        [-1.7402e-02, -9.7828e-03],\n",
       "        [-4.6661e-02, -1.5827e-02],\n",
       "        [-4.5734e-01, -1.7393e-01],\n",
       "        [-5.4985e-01, -2.0697e-01],\n",
       "        [-2.3986e-01, -9.5431e-02],\n",
       "        [ 2.4907e-01,  7.7915e-02],\n",
       "        [-1.1726e+00, -4.8681e-01],\n",
       "        [-8.7265e-02, -3.9918e-02],\n",
       "        [-7.7182e-01, -2.8356e-01],\n",
       "        [-1.8920e-01, -6.8727e-02],\n",
       "        [-1.0613e-01, -4.0538e-02],\n",
       "        [-1.4615e-01, -5.6301e-02],\n",
       "        [-1.6518e-01, -4.4489e-02],\n",
       "        [-2.1675e-04,  4.2254e-04],\n",
       "        [-1.4294e-01, -6.1592e-02],\n",
       "        [-8.6195e-02, -3.8193e-02],\n",
       "        [ 1.4079e-01, -6.1860e-02],\n",
       "        [-7.0327e-01, -2.4808e-01],\n",
       "        [-9.3840e-01, -2.6802e-01],\n",
       "        [ 2.5745e-01,  1.2566e-01],\n",
       "        [-1.5668e-01, -6.5773e-02],\n",
       "        [ 3.2038e-01,  1.3720e-01],\n",
       "        [-5.0174e-01, -1.9890e-01],\n",
       "        [-1.2189e-01, -6.2057e-02],\n",
       "        [-5.4253e-01, -2.0787e-01],\n",
       "        [-1.1039e+00, -4.1930e-01],\n",
       "        [-1.7475e-01, -5.4459e-02],\n",
       "        [-6.3777e-01, -2.3353e-01],\n",
       "        [-4.4791e-01, -1.9176e-01],\n",
       "        [-1.1960e+00, -4.8724e-01],\n",
       "        [-9.6965e-01, -3.8221e-01],\n",
       "        [ 1.5705e-02,  7.3580e-03],\n",
       "        [-4.5016e-01, -1.5728e-01],\n",
       "        [-1.4570e-01, -5.6803e-02],\n",
       "        [-2.3023e-01, -1.0305e-01],\n",
       "        [-4.3931e-01, -1.5427e-01],\n",
       "        [-6.1625e-01, -2.3837e-01],\n",
       "        [-5.0168e-01, -1.9252e-01],\n",
       "        [ 8.4367e-02,  3.8361e-02],\n",
       "        [-7.8318e-01, -2.5220e-01],\n",
       "        [-9.8753e-01, -3.5404e-01],\n",
       "        [-1.2320e+00, -4.4713e-01],\n",
       "        [-1.3321e+00, -4.8102e-01],\n",
       "        [-4.4291e-01, -1.8429e-01],\n",
       "        [-8.0863e-02, -4.9191e-02],\n",
       "        [-7.5931e-01, -2.7734e-01],\n",
       "        [ 4.0004e-01,  1.9003e-01],\n",
       "        [-1.4769e+00, -5.2244e-01],\n",
       "        [-4.9183e-02,  1.2651e-01],\n",
       "        [-5.0480e-01, -1.7987e-01],\n",
       "        [-4.7856e-01, -1.9514e-01],\n",
       "        [-8.6236e-03,  2.1836e-02],\n",
       "        [-6.1512e-01, -2.5086e-01],\n",
       "        [-6.8372e-02, -2.8664e-02]])"
      ]
     },
     "execution_count": 38,
     "metadata": {},
     "output_type": "execute_result"
    }
   ],
   "source": [
    "w2v2_output_weights.T[w2v2_act_neurons]"
   ]
  },
  {
   "cell_type": "code",
   "execution_count": null,
   "id": "91d89d6f-2ca7-4d4a-9ea4-7411a4bd324d",
   "metadata": {},
   "outputs": [],
   "source": []
  }
 ],
 "metadata": {
  "kernelspec": {
   "display_name": "Python 3 (ipykernel)",
   "language": "python",
   "name": "python3"
  },
  "language_info": {
   "codemirror_mode": {
    "name": "ipython",
    "version": 3
   },
   "file_extension": ".py",
   "mimetype": "text/x-python",
   "name": "python",
   "nbconvert_exporter": "python",
   "pygments_lexer": "ipython3",
   "version": "3.9.7"
  }
 },
 "nbformat": 4,
 "nbformat_minor": 5
}
